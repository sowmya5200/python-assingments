{
 "cells": [
  {
   "cell_type": "code",
   "execution_count": null,
   "metadata": {},
   "outputs": [],
   "source": [
    "#question : 1\n",
    "'''\n",
    "print(0.1+0.2)\n",
    "print(\"1.8\"+\"2\")\n",
    "print(87>78)\n",
    "print((0.1+0.2)==0.3)\n",
    "print(\"Predict \" \"Output\" ,\".....\")\n",
    "'''\n",
    "0.300004\n",
    "1.82\n",
    "True\n",
    "False\n",
    "Predict Output ....."
   ]
  },
  {
   "cell_type": "code",
   "execution_count": null,
   "metadata": {},
   "outputs": [],
   "source": [
    "#question : 2\n",
    "'''\n",
    "print(\"Prints\",\"multiple\",\"messages\\n\")\n",
    "print(\"Concatenate \"+\" two strings\\n\")\n",
    "print(5+6+\" adds two numbers\\n\")\n",
    "'''\n",
    "Prints multiple messages\n",
    "Concatenate  two strings\n",
    "TypeError an integer and a string cannot be added"
   ]
  },
  {
   "cell_type": "code",
   "execution_count": null,
   "metadata": {},
   "outputs": [],
   "source": [
    "#question : 3\n",
    "'''\n",
    "print('ba'+'na'*2)\n",
    "print(r'C:\\naresh\\raju\\abhi')\n",
    "'''\n",
    "banana\n",
    "C:\\naresh\\raju\\abhi"
   ]
  },
  {
   "cell_type": "code",
   "execution_count": 110,
   "metadata": {},
   "outputs": [
    {
     "name": "stdout",
     "output_type": "stream",
     "text": [
      "g anytoW\n",
      "sscc\n"
     ]
    }
   ],
   "source": [
    "#question : 4\n",
    "print('Welcome to Python traing program'[-4::-4])\n",
    "print('A series of characters designated as one object knows as a string'[2:18:5])"
   ]
  },
  {
   "cell_type": "code",
   "execution_count": null,
   "metadata": {},
   "outputs": [],
   "source": [
    "#question : 5\n",
    "'''\n",
    "print('A series of characters designated as one object known as a string'[::-1][4::3])\n",
    "print('-----------')\n",
    "print('Welcome to Python traing program'[3:10][::-1])\n",
    "'''\n",
    "# in this first it will reverse the string by [::-1] command\n",
    "#next it will print the result by taking start from the index position 4 and seek as 3 and gives the result \n",
    "#as taawkcbe  tgestrcoeeA\n",
    "#it will start the silcing from  the index position 3 and will stop at the position 10\n",
    "#next it will reverse the string after slicing\n",
    "taawkcbe  tgestrcoeeA\n",
    "-----------\n",
    "ot emoc"
   ]
  },
  {
   "cell_type": "code",
   "execution_count": null,
   "metadata": {},
   "outputs": [],
   "source": [
    "#question : 6a\n",
    "'''\n",
    "str1=True\n",
    "x=5>3\n",
    "print(str1==x)\n",
    "y=5>8\n",
    "print(str1==y)\n",
    "'''\n",
    "#The second print statement says str1==x Value of x is 5>3 which is True, and str1 is True. Hence, str1==x is True\n",
    "#The second print statement says str1==y Value of y is 5>8 which is False, but str1 is True. Hence, str1==y is False\n",
    "True\n",
    "False"
   ]
  },
  {
   "cell_type": "code",
   "execution_count": null,
   "metadata": {},
   "outputs": [],
   "source": [
    "#question : 6b\n",
    "num=7\n",
    "Name=\"Michael Jackson\"\n",
    "sear_num=Name.find('el')\n",
    "#here el is present at the position 7 so the value of sear_num is 7\n",
    "print(num>sear_num)\n",
    "#the value of sear_num and num are equal so it print True\n",
    "True"
   ]
  },
  {
   "cell_type": "code",
   "execution_count": 114,
   "metadata": {},
   "outputs": [
    {
     "name": "stdout",
     "output_type": "stream",
     "text": [
      "WAS I TAC A RO RAC A TI SAW\n"
     ]
    }
   ],
   "source": [
    "#question : 7\n",
    "p_phrase = 'was it a car or a cat I saw'\n",
    "p=p_phrase.upper()[::-1]\n",
    "print(p)"
   ]
  },
  {
   "cell_type": "code",
   "execution_count": 115,
   "metadata": {},
   "outputs": [
    {
     "name": "stdout",
     "output_type": "stream",
     "text": [
      "946\n"
     ]
    }
   ],
   "source": [
    "#question : 8\n",
    "A='1934567'\n",
    "n=A[1::2]\n",
    "print(int(n))"
   ]
  },
  {
   "cell_type": "code",
   "execution_count": 116,
   "metadata": {},
   "outputs": [
    {
     "data": {
      "text/plain": [
       "['EKIL', 'GNIDAERPS', 'ROF', 'KCANK']"
      ]
     },
     "execution_count": 116,
     "metadata": {},
     "output_type": "execute_result"
    }
   ],
   "source": [
    "#question : 9\n",
    "fake_phrase=\"Fake news has a knack for spreading like wild fire\"\n",
    "x=fake_phrase[16:40:].upper()[::-1]\n",
    "x.split()"
   ]
  },
  {
   "cell_type": "code",
   "execution_count": 117,
   "metadata": {},
   "outputs": [
    {
     "name": "stdout",
     "output_type": "stream",
     "text": [
      "['Facebook', 'already', 'uses', 'AI', 'to', 'Filter', 'Fake', 'stories', 'from', 'the', 'feeds', 'of', 'users']\n"
     ]
    }
   ],
   "source": [
    "#question : 10\n",
    "msg1=\"Facebook already uses AI to Filter Fake stories from the feeds of users\"\n",
    "print(msg1.split())"
   ]
  },
  {
   "cell_type": "code",
   "execution_count": null,
   "metadata": {},
   "outputs": [],
   "source": [
    "#question : 11\n",
    "'''\n",
    "msg2=\"Welcome to sr engineering college\"\n",
    "x=msg2.count('o')\n",
    "y=msg2.count('r')\n",
    "msg2[y**x:(x**y+x+y):][::-1]\n",
    "'''\n",
    "#x counts the occuarance of o in msg2,y counts the occarance of r in msg2\n",
    "#in the next step the slicing will be taking place with the index value y**x as 8 and the stop posotion x**y+x+y==14 which gives\n",
    "#to sr and the string will be reversed and gives rs ot\n",
    "' rs ot'"
   ]
  },
  {
   "cell_type": "code",
   "execution_count": null,
   "metadata": {},
   "outputs": [],
   "source": [
    "#question : 12a\n",
    "'''\n",
    "num1,num2=\"94\",\"30\"\n",
    "data=\"As per Census 2011, Gender ratio of India is 943 females per 1000 males\"\n",
    "num1+num2[0] in data\n",
    "'''\n",
    "#num1 is '94', num2[0] is '3'. num1+num2[0] is '943' which is present in data and output will be True\n",
    "True"
   ]
  },
  {
   "cell_type": "code",
   "execution_count": null,
   "metadata": {},
   "outputs": [],
   "source": [
    "#question : 12b\n",
    "'''\n",
    "print(data[:45],print(int(num1)+int(num2)))\n",
    "'''\n",
    "#first it will conver num1,num2 to int and it will add them\n",
    "#next by silcing it will go to 44th index position and will print - As per Census 2011, Gender ratio of India is\n",
    "#None is printed because there is no return value for the print(int(num1)+int(num2)) function\n",
    "124\n",
    "As per Census 2011, Gender ratio of India is  None"
   ]
  },
  {
   "cell_type": "code",
   "execution_count": 109,
   "metadata": {},
   "outputs": [
    {
     "name": "stdout",
     "output_type": "stream",
     "text": [
      "Enter the amount of water in kilograms : 20\n",
      "Enter the initial temperature of water in degree celsius : 6\n",
      "Enter the final temperature of water degree celsius : 8\n",
      "Energy required to heat the water = 167360.0 joules\n"
     ]
    }
   ],
   "source": [
    "M=float(input('Enter the amount of water in kilograms : '))\n",
    "initialTemperature=float(input('Enter the initial temperature of water in degree celsius : '))\n",
    "finalTemperature=float(input('Enter the final temperature of water degree celsius : '))\n",
    "Q = M * 4184 * (finalTemperature - initialTemperature)\n",
    "print(f'Energy required to heat the water = {Q} joules')"
   ]
  },
  {
   "cell_type": "code",
   "execution_count": 119,
   "metadata": {},
   "outputs": [
    {
     "name": "stdout",
     "output_type": "stream",
     "text": [
      "Enter number of x2\n",
      "the word is zzoooo\n"
     ]
    }
   ],
   "source": [
    "#question : 14\n",
    "x=int(input('Enter number of x'))\n",
    "y=x*2\n",
    "print(f\"the word is {'z'*x+'o'*y}\")"
   ]
  },
  {
   "cell_type": "code",
   "execution_count": 118,
   "metadata": {},
   "outputs": [
    {
     "name": "stdout",
     "output_type": "stream",
     "text": [
      "Enter value of x5\n",
      "Enter value of y6\n",
      "15625\n",
      "520\n",
      "515\n"
     ]
    }
   ],
   "source": [
    "#question : 15\n",
    "x=int(input('Enter value of x'))\n",
    "y=int(input('Enter value of y'))\n",
    "powe=x**y\n",
    "print(powe)\n",
    "div=int(powe/(x*y))\n",
    "print(div)\n",
    "print(div^(x+y))"
   ]
  }
 ],
 "metadata": {
  "kernelspec": {
   "display_name": "Python 3",
   "language": "python",
   "name": "python3"
  },
  "language_info": {
   "codemirror_mode": {
    "name": "ipython",
    "version": 3
   },
   "file_extension": ".py",
   "mimetype": "text/x-python",
   "name": "python",
   "nbconvert_exporter": "python",
   "pygments_lexer": "ipython3",
   "version": "3.7.6"
  }
 },
 "nbformat": 4,
 "nbformat_minor": 4
}
